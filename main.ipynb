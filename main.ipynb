{
 "cells": [
  {
   "cell_type": "code",
   "execution_count": 1,
   "metadata": {},
   "outputs": [],
   "source": [
    "from mylogger import logger"
   ]
  },
  {
   "cell_type": "code",
   "execution_count": 2,
   "metadata": {},
   "outputs": [],
   "source": [
    "import json\n",
    "import pandas\n",
    "import seaborn\n",
    "import requests\n",
    "from tqdm.notebook import tqdm\n",
    "from itertools import cycle\n",
    "from matplotlib import pyplot as plt"
   ]
  },
  {
   "cell_type": "code",
   "execution_count": 3,
   "metadata": {},
   "outputs": [],
   "source": [
    "cycol = cycle('bgrcmk')"
   ]
  },
  {
   "cell_type": "code",
   "execution_count": 4,
   "metadata": {},
   "outputs": [],
   "source": [
    "def get_data(zipcodes):\n",
    "    logger.info(msg = \"Loading data by zipcode\", category=\"REQUEST\")\n",
    "    output = {}\n",
    "    for zipcode in tqdm(zipcodes) :\n",
    "        logger.info(msg = f\"Loading data for zipcode {zipcode}\", category=\"REQUEST\")\n",
    "        r = requests.get(f'https://api.cquest.org/dvf?code_postal={zipcode}')\n",
    "        output[zipcode] =  r\n",
    "    return output\n",
    "\n",
    "def parse_data(inputs) :\n",
    "    output = []\n",
    "    logger.info(msg = \"Json parsing data by zipcode\", category=\"PARSE\")\n",
    "    for zipcode, input_ in tqdm(inputs.items()) :\n",
    "        logger.info(msg = f\"Json parsing data for zipcode {zipcode}\", category=\"PARSE\")\n",
    "        resultats = json.loads(input_.text)\n",
    "        resultats = resultats['resultats']\n",
    "        output = output + resultats\n",
    "    return output"
   ]
  },
  {
   "cell_type": "code",
   "execution_count": 5,
   "metadata": {},
   "outputs": [],
   "source": [
    "zipcodes = [\"130{:02d}\".format(i) for i in range(1,17)]"
   ]
  },
  {
   "cell_type": "code",
   "execution_count": null,
   "metadata": {},
   "outputs": [
    {
     "data": {
      "application/vnd.jupyter.widget-view+json": {
       "model_id": "e81a1903e1024a3f9a82cd8ca26832ad",
       "version_major": 2,
       "version_minor": 0
      },
      "text/plain": [
       "HBox(children=(HTML(value=''), FloatProgress(value=0.0, max=16.0), HTML(value='')))"
      ]
     },
     "metadata": {},
     "output_type": "display_data"
    },
    {
     "name": "stdout",
     "output_type": "stream",
     "text": [
      "\n"
     ]
    },
    {
     "data": {
      "application/vnd.jupyter.widget-view+json": {
       "model_id": "b67863fdf8b8442f864d6027bebe5fdb",
       "version_major": 2,
       "version_minor": 0
      },
      "text/plain": [
       "HBox(children=(HTML(value=''), FloatProgress(value=0.0, max=16.0), HTML(value='')))"
      ]
     },
     "metadata": {},
     "output_type": "display_data"
    }
   ],
   "source": [
    "results = get_data(zipcodes)\n",
    "results = parse_data(results)"
   ]
  },
  {
   "cell_type": "code",
   "execution_count": null,
   "metadata": {},
   "outputs": [],
   "source": [
    "print(f\"number of rows : {len(results)}\")"
   ]
  },
  {
   "cell_type": "code",
   "execution_count": null,
   "metadata": {},
   "outputs": [],
   "source": [
    "df = pandas.DataFrame(results)\n",
    "df = df.drop([\"articles_1\", \"articles_2\", \"articles_3\", \n",
    "              \"articles_4\", \"articles_5\", \"numero_disposition\",\n",
    "              \"reference_document\", \"code_service_ch\", \"commune\", \n",
    "              \"code_departement\", \"code_commune\", \"prefixe_section\",\n",
    "              \"section\", \"numero_plan\", \"numero_volume\", \"lot_1\", \n",
    "              \"surface_lot_1\", \"lot_2\", \"surface_lot_2\", \"lot_3\",\n",
    "              \"surface_lot_3\", \"lot_4\", \"surface_lot_4\", \"lot_5\", \n",
    "              \"surface_lot_51\", \"nombre_lots\", \"code_type_local\", \n",
    "              \"type_local\", \"identifiant_local\", \"surface_relle_bati\",     \n",
    "              \"nature_culture_speciale\", \"geom\"], 1) "
   ]
  },
  {
   "cell_type": "code",
   "execution_count": null,
   "metadata": {},
   "outputs": [],
   "source": [
    "df[\"date_mutation\"] = pandas.to_datetime(df[\"date_mutation\"], format=\"%Y-%m-%d\")\n",
    "df[\"code_postal\"] = df[\"code_postal\"].astype(\"category\")\n",
    "df['day'] = df.date_mutation.dt.day\n",
    "df['month'] = df.date_mutation.dt.month\n",
    "df['year'] = df.date_mutation.dt.year\n",
    "df[\"valeur_fonciere\"] = df[\"valeur_fonciere\"].astype(\"float\")\n",
    "df = df.sort_values(by=\"date_mutation\")"
   ]
  },
  {
   "cell_type": "code",
   "execution_count": null,
   "metadata": {},
   "outputs": [],
   "source": [
    "df.tail(5)"
   ]
  },
  {
   "cell_type": "code",
   "execution_count": null,
   "metadata": {},
   "outputs": [],
   "source": [
    "print(f\"We have data from {df.date_mutation.min()} to {df.date_mutation.max()}\")  "
   ]
  },
  {
   "cell_type": "code",
   "execution_count": null,
   "metadata": {},
   "outputs": [],
   "source": [
    "plt.figure(figsize=(20,10))\n",
    "_ = df[\"date_mutation\"].hist(bins=100, color=\"green\", alpha = 0.4)\n",
    "plt.grid(False)"
   ]
  },
  {
   "cell_type": "code",
   "execution_count": null,
   "metadata": {},
   "outputs": [],
   "source": [
    "plt.figure(figsize=(20,10))\n",
    "_ = df[\"code_postal\"].value_counts()[zipcodes].plot(kind=\"bar\", color=\"orange\", alpha=0.4)\n",
    "plt.grid(False)"
   ]
  },
  {
   "cell_type": "code",
   "execution_count": null,
   "metadata": {},
   "outputs": [],
   "source": [
    "_ = df.groupby(['year', 'code_postal']).size().unstack().plot.bar()\n",
    "fig = plt.gcf()\n",
    "fig.set_size_inches(18.5, 10.5)\n",
    "plt.grid(False)"
   ]
  },
  {
   "cell_type": "code",
   "execution_count": null,
   "metadata": {},
   "outputs": [],
   "source": [
    "for zipcode in zipcodes:\n",
    "    df_tmp = df[df[\"code_postal\"] == zipcode]\n",
    "    df_tmp[\"valeur_a_unite\"] = df_tmp[\"valeur_fonciere\"] / df_tmp[\"surface_terrain\"]\n",
    "    df_tmp = df_tmp[df_tmp.year == 2019]\n",
    "    seaborn.relplot(x=df_tmp[\"date_mutation\"], y=df_tmp[\"valeur_a_unite\"])\n",
    "    fig = plt.gcf()\n",
    "    fig.set_size_inches(18.5, 10.5)\n",
    "    plt.grid(False)\n",
    "    print(df_tmp[df_tmp[\"valeur_fonciere\"] == df_tmp.valeur_fonciere.max()] )\n",
    "    del df_tmp"
   ]
  },
  {
   "cell_type": "code",
   "execution_count": null,
   "metadata": {},
   "outputs": [],
   "source": [
    "interesting = df[df[\"nombre_pieces_principales\"] == 2]\n",
    "interesting = interesting[interesting[\"surface_terrain\"].notna()] \n",
    "interesting = interesting.drop([\"articles_1\", \"articles_2\", \"articles_3\", \n",
    "                                \"articles_4\", \"articles_5\", \"numero_disposition\",\n",
    "                                \"reference_document\", \"code_service_ch\", \"commune\", \n",
    "                                 \"code_departement\", \"code_commune\", \"prefixe_section\",\n",
    "                                 \"section\", \"numero_plan\", \"numero_volume\", 'lot_1', \n",
    "                                 'surface_lot_1', 'lot_2', 'surface_lot_2', 'lot_3',\n",
    "                                 'surface_lot_3', 'lot_4', 'surface_lot_4', 'lot_5', 'surface_lot_51',\n",
    "                                 'nombre_lots', 'code_type_local', 'type_local', 'identifiant_local',\n",
    "                                 'surface_relle_bati', \"nature_culture_speciale\", \"geom\", \"date_mutation\"], 1)\n",
    "interesting.tail(5)"
   ]
  },
  {
   "cell_type": "code",
   "execution_count": null,
   "metadata": {},
   "outputs": [],
   "source": [
    "interesting = interesting[interesting[\"surface_terrain\"] >= 50]\n",
    "interesting.shape"
   ]
  },
  {
   "cell_type": "code",
   "execution_count": null,
   "metadata": {},
   "outputs": [],
   "source": [
    "interesting = interesting[interesting[\"valeur_fonciere\"] != interesting[\"valeur_fonciere\"].max()]"
   ]
  },
  {
   "cell_type": "code",
   "execution_count": null,
   "metadata": {},
   "outputs": [],
   "source": [
    "interesting = interesting[interesting[\"surface_terrain\"] <= 80]"
   ]
  },
  {
   "cell_type": "code",
   "execution_count": null,
   "metadata": {},
   "outputs": [],
   "source": [
    "interesting = interesting[interesting[\"year\"] == 2019]"
   ]
  },
  {
   "cell_type": "code",
   "execution_count": null,
   "metadata": {},
   "outputs": [],
   "source": [
    "interesting.sort_values(by=\"code_postal\", inplace=True)\n",
    "interesting.tail(25)"
   ]
  },
  {
   "cell_type": "code",
   "execution_count": null,
   "metadata": {},
   "outputs": [],
   "source": [
    "interesting.sort_values(by=\"valeur_fonciere\", inplace=True)\n",
    "interesting.tail(25)"
   ]
  },
  {
   "cell_type": "code",
   "execution_count": null,
   "metadata": {},
   "outputs": [],
   "source": []
  },
  {
   "cell_type": "code",
   "execution_count": null,
   "metadata": {},
   "outputs": [],
   "source": []
  }
 ],
 "metadata": {
  "kernelspec": {
   "display_name": "Python 3",
   "language": "python",
   "name": "python3"
  },
  "language_info": {
   "codemirror_mode": {
    "name": "ipython",
    "version": 3
   },
   "file_extension": ".py",
   "mimetype": "text/x-python",
   "name": "python",
   "nbconvert_exporter": "python",
   "pygments_lexer": "ipython3",
   "version": "3.6.8"
  }
 },
 "nbformat": 4,
 "nbformat_minor": 2
}
